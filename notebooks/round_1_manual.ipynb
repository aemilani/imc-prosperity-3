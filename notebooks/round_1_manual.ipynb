{
 "cells": [
  {
   "cell_type": "code",
   "execution_count": 5,
   "id": "a674dbba-2da0-426f-b3d4-60209b2ce52b",
   "metadata": {},
   "outputs": [],
   "source": [
    "import numpy as np"
   ]
  },
  {
   "cell_type": "markdown",
   "id": "a168dbdf-757a-46cc-98ac-958e19a411c6",
   "metadata": {},
   "source": [
    "- Max number of trades: 5\n",
    "- You must begin your first trade and end your last trade with our own currency; SeaShells"
   ]
  },
  {
   "cell_type": "code",
   "execution_count": 6,
   "id": "8d8e32f3-4d89-4ced-99c4-8b58275fb355",
   "metadata": {},
   "outputs": [],
   "source": [
    "prod_dict = {\n",
    "    0: 'Snowballs',\n",
    "    1: 'Pizzas',\n",
    "    2: 'Silicon Nuggets',\n",
    "    3: 'Sea Shells'\n",
    "}"
   ]
  },
  {
   "cell_type": "code",
   "execution_count": 7,
   "id": "3edd4d13-a849-4d85-925f-9260cda694bd",
   "metadata": {},
   "outputs": [
    {
     "name": "stdout",
     "output_type": "stream",
     "text": [
      "[[1.   1.45 0.52 0.72]\n",
      " [0.7  1.   0.31 0.48]\n",
      " [1.95 3.1  1.   1.49]\n",
      " [1.34 1.98 0.64 1.  ]]\n"
     ]
    }
   ],
   "source": [
    "conv = np.array([\n",
    "[1, 1.45, 0.52, 0.72],\n",
    "[0.7, 1, 0.31, 0.48],\n",
    "[1.95, 3.1, 1, 1.49],\n",
    "[1.34, 1.98, 0.64, 1]\n",
    "])\n",
    "print(conv)"
   ]
  },
  {
   "cell_type": "code",
   "execution_count": 8,
   "id": "4f9c95cd-9442-47fe-b717-468c47a18433",
   "metadata": {},
   "outputs": [
    {
     "name": "stdout",
     "output_type": "stream",
     "text": [
      "1.0\n",
      "3\n"
     ]
    }
   ],
   "source": [
    "pnls = {}\n",
    "for p1 in range(4):\n",
    "    prod = conv[3, p1] * conv[p1, 3]\n",
    "    pnls[p1] = prod\n",
    "\n",
    "max_pnl = max(pnls.values())\n",
    "print(max_pnl)\n",
    "best_convs = [k for k in pnls.keys() if pnls[k] == max_pnl][0]\n",
    "print(best_convs)"
   ]
  },
  {
   "cell_type": "code",
   "execution_count": 9,
   "id": "f7fc9b33-c707-40f5-b501-9a233925951e",
   "metadata": {},
   "outputs": [
    {
     "name": "stdout",
     "output_type": "stream",
     "text": [
      "1.038232\n",
      "(0, 2)\n"
     ]
    }
   ],
   "source": [
    "pnls = {}\n",
    "for p1 in range(4):\n",
    "    for p2 in range(4):\n",
    "        prod = conv[3, p1] * conv[p1, p2] * conv[p2, 3]\n",
    "        pnls[(p1, p2)] = prod\n",
    "\n",
    "max_pnl = max(pnls.values())\n",
    "print(max_pnl)\n",
    "best_convs = [k for k in pnls.keys() if pnls[k] == max_pnl][0]\n",
    "print(best_convs)"
   ]
  },
  {
   "cell_type": "code",
   "execution_count": 10,
   "id": "3885ecb3-32c6-4ff8-bc13-dfaa035e6f33",
   "metadata": {},
   "outputs": [
    {
     "name": "stdout",
     "output_type": "stream",
     "text": [
      "1.0738728\n",
      "(1, 0, 2)\n"
     ]
    }
   ],
   "source": [
    "pnls = {}\n",
    "for p1 in range(4):\n",
    "    for p2 in range(4):\n",
    "        for p3 in range(4):\n",
    "            prod = conv[3, p1] * conv[p1, p2] * conv[p2, p3] * conv[p3, 3]\n",
    "            pnls[(p1, p2, p3,)] = prod\n",
    "\n",
    "max_pnl = max(pnls.values())\n",
    "print(max_pnl)\n",
    "best_convs = [k for k in pnls.keys() if pnls[k] == max_pnl][0]\n",
    "print(best_convs)"
   ]
  },
  {
   "cell_type": "code",
   "execution_count": 11,
   "id": "68984e1b-5dec-4007-92db-839aa8702f1b",
   "metadata": {},
   "outputs": [
    {
     "name": "stdout",
     "output_type": "stream",
     "text": [
      "1.08868032\n",
      "(0, 2, 1, 0)\n"
     ]
    }
   ],
   "source": [
    "pnls = {}\n",
    "for p1 in range(4):\n",
    "    for p2 in range(4):\n",
    "        for p3 in range(4):\n",
    "            for p4 in range(4):\n",
    "                prod = conv[3, p1] * conv[p1, p2] * conv[p2, p3] * conv[p3, p4] * conv[p4, 3]\n",
    "                pnls[(p1, p2, p3, p4)] = prod\n",
    "\n",
    "max_pnl = max(pnls.values())\n",
    "print(max_pnl)\n",
    "best_convs = [k for k in pnls.keys() if pnls[k] == max_pnl][0]\n",
    "print(best_convs)"
   ]
  },
  {
   "cell_type": "code",
   "execution_count": 12,
   "id": "7f5399f5-df7f-4c20-b038-da70dcf1823d",
   "metadata": {},
   "outputs": [
    {
     "name": "stdout",
     "output_type": "stream",
     "text": [
      "Optimal conversions:\n",
      "\n",
      "Sea Shells --> Snowballs\n",
      "Snowballs --> Silicon Nuggets\n",
      "Silicon Nuggets --> Pizzas\n",
      "Pizzas --> Snowballs\n",
      "Snowballs --> Sea Shells\n"
     ]
    }
   ],
   "source": [
    "print('Optimal conversions:\\n')\n",
    "print(f'{prod_dict[3]} --> {prod_dict[best_convs[0]]}')\n",
    "print(f'{prod_dict[best_convs[0]]} --> {prod_dict[best_convs[1]]}')\n",
    "print(f'{prod_dict[best_convs[1]]} --> {prod_dict[best_convs[2]]}')\n",
    "print(f'{prod_dict[best_convs[2]]} --> {prod_dict[best_convs[3]]}')\n",
    "print(f'{prod_dict[best_convs[3]]} --> {prod_dict[3]}')"
   ]
  },
  {
   "cell_type": "code",
   "execution_count": 13,
   "id": "3a2b6fd6-42fd-4e4a-b02b-5956e429c1dc",
   "metadata": {},
   "outputs": [
    {
     "name": "stdout",
     "output_type": "stream",
     "text": [
      "Highest PnL: 44340\n"
     ]
    }
   ],
   "source": [
    "print(f'Highest PnL: {int(np.round(500_000 * (max_pnl - 1)))}')"
   ]
  }
 ],
 "metadata": {
  "kernelspec": {
   "display_name": "Python 3 (ipykernel)",
   "language": "python",
   "name": "python3"
  },
  "language_info": {
   "codemirror_mode": {
    "name": "ipython",
    "version": 3
   },
   "file_extension": ".py",
   "mimetype": "text/x-python",
   "name": "python",
   "nbconvert_exporter": "python",
   "pygments_lexer": "ipython3",
   "version": "3.12.9"
  }
 },
 "nbformat": 4,
 "nbformat_minor": 5
}
