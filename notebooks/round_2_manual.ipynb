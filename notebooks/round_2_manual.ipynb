{
 "cells": [
  {
   "cell_type": "code",
   "execution_count": 226,
   "id": "43d4e615-1485-49c7-9bfc-15ea7b8a8fbb",
   "metadata": {},
   "outputs": [],
   "source": [
    "import numpy as np\n",
    "import pandas as pd\n",
    "import matplotlib.pyplot as plt"
   ]
  },
  {
   "cell_type": "markdown",
   "id": "07f4780e-7849-43dd-994f-6cfd0ebffa7d",
   "metadata": {},
   "source": [
    "# Previous year"
   ]
  },
  {
   "cell_type": "code",
   "execution_count": 227,
   "id": "a7e4546b-6537-4417-878e-ca3d4e69e7ab",
   "metadata": {},
   "outputs": [],
   "source": [
    "def calc_treasure(mult, hunt, perc):\n",
    "    return mult * 7500 / (hunt + perc)"
   ]
  },
  {
   "cell_type": "code",
   "execution_count": 228,
   "id": "87b90d7f-706f-48b6-bcf4-653840e55ae4",
   "metadata": {},
   "outputs": [],
   "source": [
    "mult = np.array(\n",
    "    [[24, 70, 41, 21, 60],\n",
    "    [47, 82, 87, 80, 35],\n",
    "    [73, 89, 100, 90, 17],\n",
    "    [77, 83, 85, 79, 55],\n",
    "    [12, 27, 52, 15, 30]]\n",
    ")\n",
    "hunt = np.array(\n",
    "    [[2, 4, 3, 2, 4],\n",
    "    [3, 5, 5, 5, 3],\n",
    "    [4, 5, 8, 7, 2],\n",
    "    [5, 5, 5, 5, 4],\n",
    "    [2, 3, 4, 2, 3]]\n",
    ")"
   ]
  },
  {
   "cell_type": "code",
   "execution_count": 229,
   "id": "9fb13cdc-8ba4-4f48-8abf-8d84b4c69630",
   "metadata": {},
   "outputs": [],
   "source": [
    "x = 0.59\n",
    "percs = np.array(\n",
    "    [[1.52, 8.17, 1.89, x, 3.65],\n",
    "    [3.02, 6.2, 9.84, 4.15, 1.15],\n",
    "    [11.31, 10.76, 4.93, 3.43, 0.61],\n",
    "    [4.56, 5.45, 6.55, 5.45, 2.45],\n",
    "    [x, x, 1.94, x, x]]\n",
    ")"
   ]
  },
  {
   "cell_type": "code",
   "execution_count": 230,
   "id": "cf4a3d19-525a-421b-b324-815c6ebc4bf6",
   "metadata": {},
   "outputs": [],
   "source": [
    "treasures = []\n",
    "for m, h, p in zip(mult.flatten(), hunt.flatten(), percs.flatten()):\n",
    "    treasure = calc_treasure(m, h, p)\n",
    "    treasures.append(treasure)"
   ]
  },
  {
   "cell_type": "code",
   "execution_count": 231,
   "id": "f2070178-4246-4b75-9024-6393d1c91a98",
   "metadata": {},
   "outputs": [],
   "source": [
    "df = pd.DataFrame(data=np.array([mult.flatten(), hunt.flatten(), percs.flatten(), treasures]).T, columns=['mult', 'hunt', 'perc', 'tre'])\n",
    "df = df.assign(tre_naive=lambda x: x['mult'] * 7500 / x['hunt'])"
   ]
  },
  {
   "cell_type": "code",
   "execution_count": 232,
   "id": "6afb0c16-a0ba-4680-b295-e90ef9b4f465",
   "metadata": {},
   "outputs": [],
   "source": [
    "df_sorted = df.sort_values(by='tre_naive', ascending=False).reset_index(drop=True)"
   ]
  },
  {
   "cell_type": "code",
   "execution_count": 233,
   "id": "82100c36-95dd-4fe1-9caa-db093f631894",
   "metadata": {},
   "outputs": [
    {
     "data": {
      "image/png": "[encoded data removed]",
      "text/plain": [
       "<Figure size 600x300 with 1 Axes>"
      ]
     },
     "metadata": {},
     "output_type": "display_data"
    }
   ],
   "source": [
    "plt.figure(figsize=(6, 3))\n",
    "plt.plot(df_sorted['perc'].to_numpy())\n",
    "plt.ylabel('Percent')\n",
    "for i in range(df_sorted.shape[0]):\n",
    "    plt.axvline(i, c='gray', alpha=0.3)\n",
    "plt.show()"
   ]
  },
  {
   "cell_type": "code",
   "execution_count": 234,
   "id": "4ec1e770-d893-4bb3-b000-2eed0c2f51f8",
   "metadata": {},
   "outputs": [
    {
     "data": {
      "text/plain": [
       "15    4.25\n",
       "16    8.00\n",
       "Name: perc, dtype: float64"
      ]
     },
     "execution_count": 234,
     "metadata": {},
     "output_type": "execute_result"
    }
   ],
   "source": [
    "(df_sorted.iloc[15:17]['perc'] - (df_sorted.iloc[14]['perc'] + df_sorted.iloc[17]['perc']) / 2) * 2.5"
   ]
  },
  {
   "cell_type": "markdown",
   "id": "a319fb29-ac9b-437c-be65-eaa2c3a8e96a",
   "metadata": {},
   "source": [
    "# This year"
   ]
  },
  {
   "cell_type": "markdown",
   "id": "7bec1278-ff83-4080-b3d0-d41012868919",
   "metadata": {},
   "source": [
    "- Your goal is to choose up to two containers.\n",
    "- First one is free\n",
    "- Second one has a fee of 50000 Sea Shells\n",
    "- Each container is said to hold at least 10.000 SeaShells."
   ]
  },
  {
   "cell_type": "code",
   "execution_count": 342,
   "id": "2ff57018-7691-4e34-85cd-b79f582f9bcb",
   "metadata": {},
   "outputs": [],
   "source": [
    "def calc_treasure(mult, hunt, perc):\n",
    "    return mult * 10000 / (hunt + perc)"
   ]
  },
  {
   "cell_type": "code",
   "execution_count": 343,
   "id": "5ce6f7a6-185a-4853-bce9-ad81a78e4efa",
   "metadata": {},
   "outputs": [],
   "source": [
    "mult = np.array([10, 80, 37, 17, 90, 31, 50, 20, 73, 89])\n",
    "hunt = np.array([1, 6, 3, 1, 10, 2, 4, 2, 4, 8])\n",
    "fee = 50000"
   ]
  },
  {
   "cell_type": "code",
   "execution_count": 344,
   "id": "30f0c10b-1799-44a2-b6fd-bf4c62b78425",
   "metadata": {},
   "outputs": [],
   "source": [
    "df = pd.DataFrame(data=np.array([mult.flatten(), hunt.flatten()]).T, columns=['mult', 'hunt'])"
   ]
  },
  {
   "cell_type": "code",
   "execution_count": 345,
   "id": "16e9405e-9bb3-4dbc-9897-1de005718408",
   "metadata": {},
   "outputs": [],
   "source": [
    "df = df.assign(tre_naive=lambda x: x['mult'] * 10000 / x['hunt'])"
   ]
  },
  {
   "cell_type": "code",
   "execution_count": 346,
   "id": "2da18c6b-8131-4661-85d8-84e6575e5b9e",
   "metadata": {},
   "outputs": [],
   "source": [
    "df_sorted = df.sort_values(by='tre_naive', ascending=False).reset_index(drop=True)"
   ]
  },
  {
   "cell_type": "code",
   "execution_count": 347,
   "id": "f070eb19-36a3-49c9-9317-d7d51416f692",
   "metadata": {},
   "outputs": [
    {
     "data": {
      "text/html": [
       "<div>\n",
       "<style scoped>\n",
       "    .dataframe tbody tr th:only-of-type {\n",
       "        vertical-align: middle;\n",
       "    }\n",
       "\n",
       "    .dataframe tbody tr th {\n",
       "        vertical-align: top;\n",
       "    }\n",
       "\n",
       "    .dataframe thead th {\n",
       "        text-align: right;\n",
       "    }\n",
       "</style>\n",
       "<table border=\"1\" class=\"dataframe\">\n",
       "  <thead>\n",
       "    <tr style=\"text-align: right;\">\n",
       "      <th></th>\n",
       "      <th>mult</th>\n",
       "      <th>hunt</th>\n",
       "      <th>tre_naive</th>\n",
       "    </tr>\n",
       "  </thead>\n",
       "  <tbody>\n",
       "    <tr>\n",
       "      <th>0</th>\n",
       "      <td>73</td>\n",
       "      <td>4</td>\n",
       "      <td>182500.000000</td>\n",
       "    </tr>\n",
       "    <tr>\n",
       "      <th>1</th>\n",
       "      <td>17</td>\n",
       "      <td>1</td>\n",
       "      <td>170000.000000</td>\n",
       "    </tr>\n",
       "    <tr>\n",
       "      <th>2</th>\n",
       "      <td>31</td>\n",
       "      <td>2</td>\n",
       "      <td>155000.000000</td>\n",
       "    </tr>\n",
       "    <tr>\n",
       "      <th>3</th>\n",
       "      <td>80</td>\n",
       "      <td>6</td>\n",
       "      <td>133333.333333</td>\n",
       "    </tr>\n",
       "    <tr>\n",
       "      <th>4</th>\n",
       "      <td>50</td>\n",
       "      <td>4</td>\n",
       "      <td>125000.000000</td>\n",
       "    </tr>\n",
       "    <tr>\n",
       "      <th>5</th>\n",
       "      <td>37</td>\n",
       "      <td>3</td>\n",
       "      <td>123333.333333</td>\n",
       "    </tr>\n",
       "    <tr>\n",
       "      <th>6</th>\n",
       "      <td>89</td>\n",
       "      <td>8</td>\n",
       "      <td>111250.000000</td>\n",
       "    </tr>\n",
       "    <tr>\n",
       "      <th>7</th>\n",
       "      <td>10</td>\n",
       "      <td>1</td>\n",
       "      <td>100000.000000</td>\n",
       "    </tr>\n",
       "    <tr>\n",
       "      <th>8</th>\n",
       "      <td>20</td>\n",
       "      <td>2</td>\n",
       "      <td>100000.000000</td>\n",
       "    </tr>\n",
       "    <tr>\n",
       "      <th>9</th>\n",
       "      <td>90</td>\n",
       "      <td>10</td>\n",
       "      <td>90000.000000</td>\n",
       "    </tr>\n",
       "  </tbody>\n",
       "</table>\n",
       "</div>"
      ],
      "text/plain": [
       "   mult  hunt      tre_naive\n",
       "0    73     4  182500.000000\n",
       "1    17     1  170000.000000\n",
       "2    31     2  155000.000000\n",
       "3    80     6  133333.333333\n",
       "4    50     4  125000.000000\n",
       "5    37     3  123333.333333\n",
       "6    89     8  111250.000000\n",
       "7    10     1  100000.000000\n",
       "8    20     2  100000.000000\n",
       "9    90    10   90000.000000"
      ]
     },
     "execution_count": 347,
     "metadata": {},
     "output_type": "execute_result"
    }
   ],
   "source": [
    "df_sorted"
   ]
  },
  {
   "cell_type": "code",
   "execution_count": 480,
   "id": "456e6caa-08ea-48af-bab6-581dcb1bfe36",
   "metadata": {},
   "outputs": [
    {
     "data": {
      "image/png": "[encoded data removed]",
      "text/plain": [
       "<Figure size 600x300 with 1 Axes>"
      ]
     },
     "metadata": {},
     "output_type": "display_data"
    }
   ],
   "source": [
    "perc = np.arange(start=15, stop=5, step=-1) ** 4.5 / 6950\n",
    "perc += np.random.randint(0, 3, 10)\n",
    "perc = perc / perc.sum() * 88\n",
    "perc[-1] += 8\n",
    "perc[6] += 4\n",
    "perc[3] += 1\n",
    "perc[7] -= 0.35\n",
    "perc[8] += 0.35\n",
    "\n",
    "plt.figure(figsize=(6, 3))\n",
    "plt.plot(perc)\n",
    "plt.ylabel('Percent')\n",
    "for i in range(10):\n",
    "    plt.axvline(i, c='gray', alpha=0.3)\n",
    "plt.show()"
   ]
  },
  {
   "cell_type": "code",
   "execution_count": 481,
   "id": "383a5ec0-61ba-416e-8508-b99233dbb2ef",
   "metadata": {},
   "outputs": [
    {
     "data": {
      "text/plain": [
       "np.float64(3.8621979442176615)"
      ]
     },
     "execution_count": 481,
     "metadata": {},
     "output_type": "execute_result"
    }
   ],
   "source": [
    "(perc[5] + perc[7]) / 2"
   ]
  },
  {
   "cell_type": "code",
   "execution_count": 482,
   "id": "21ae3284-9123-4824-a26f-8645d60b7258",
   "metadata": {},
   "outputs": [
    {
     "data": {
      "text/plain": [
       "array([25.59027337, 18.11810319, 12.98020806, 11.80631327,  6.12073605,\n",
       "        4.86202817,  7.35704109,  2.86236772,  2.90278426,  8.40014482])"
      ]
     },
     "execution_count": 482,
     "metadata": {},
     "output_type": "execute_result"
    }
   ],
   "source": [
    "perc"
   ]
  },
  {
   "cell_type": "code",
   "execution_count": 483,
   "id": "74523c19-efba-4194-8c3e-8308b219495c",
   "metadata": {},
   "outputs": [
    {
     "data": {
      "text/plain": [
       "(np.float64(25.590273366586995),\n",
       " np.float64(7.357041093178492),\n",
       " np.float64(2.9027842596640974),\n",
       " np.float64(8.400144816209203))"
      ]
     },
     "execution_count": 483,
     "metadata": {},
     "output_type": "execute_result"
    }
   ],
   "source": [
    "perc[0], perc[6], perc[8], perc[9]"
   ]
  },
  {
   "cell_type": "code",
   "execution_count": 484,
   "id": "c0a84f55-bc03-4480-b2de-1bba6bca3cb3",
   "metadata": {},
   "outputs": [],
   "source": [
    "df_sorted = df_sorted.assign(perc=perc)"
   ]
  },
  {
   "cell_type": "code",
   "execution_count": 485,
   "id": "a7e81ea8-b5b5-4c26-99aa-b207c5b5759d",
   "metadata": {},
   "outputs": [],
   "source": [
    "df_sorted = df_sorted.assign(tre=lambda x: calc_treasure(x['mult'], x['hunt'], x['perc']))"
   ]
  },
  {
   "cell_type": "code",
   "execution_count": 486,
   "id": "b42fdab8-950a-41c5-b8af-ca2b2225a814",
   "metadata": {},
   "outputs": [
    {
     "data": {
      "text/html": [
       "<div>\n",
       "<style scoped>\n",
       "    .dataframe tbody tr th:only-of-type {\n",
       "        vertical-align: middle;\n",
       "    }\n",
       "\n",
       "    .dataframe tbody tr th {\n",
       "        vertical-align: top;\n",
       "    }\n",
       "\n",
       "    .dataframe thead th {\n",
       "        text-align: right;\n",
       "    }\n",
       "</style>\n",
       "<table border=\"1\" class=\"dataframe\">\n",
       "  <thead>\n",
       "    <tr style=\"text-align: right;\">\n",
       "      <th></th>\n",
       "      <th>mult</th>\n",
       "      <th>hunt</th>\n",
       "      <th>tre_naive</th>\n",
       "      <th>perc</th>\n",
       "      <th>tre</th>\n",
       "    </tr>\n",
       "  </thead>\n",
       "  <tbody>\n",
       "    <tr>\n",
       "      <th>0</th>\n",
       "      <td>73</td>\n",
       "      <td>4</td>\n",
       "      <td>182500.000000</td>\n",
       "      <td>25.590273</td>\n",
       "      <td>24670.268874</td>\n",
       "    </tr>\n",
       "    <tr>\n",
       "      <th>1</th>\n",
       "      <td>17</td>\n",
       "      <td>1</td>\n",
       "      <td>170000.000000</td>\n",
       "      <td>18.118103</td>\n",
       "      <td>8892.095533</td>\n",
       "    </tr>\n",
       "    <tr>\n",
       "      <th>2</th>\n",
       "      <td>31</td>\n",
       "      <td>2</td>\n",
       "      <td>155000.000000</td>\n",
       "      <td>12.980208</td>\n",
       "      <td>20693.971594</td>\n",
       "    </tr>\n",
       "    <tr>\n",
       "      <th>3</th>\n",
       "      <td>80</td>\n",
       "      <td>6</td>\n",
       "      <td>133333.333333</td>\n",
       "      <td>11.806313</td>\n",
       "      <td>44927.885279</td>\n",
       "    </tr>\n",
       "    <tr>\n",
       "      <th>4</th>\n",
       "      <td>50</td>\n",
       "      <td>4</td>\n",
       "      <td>125000.000000</td>\n",
       "      <td>6.120736</td>\n",
       "      <td>49403.521388</td>\n",
       "    </tr>\n",
       "    <tr>\n",
       "      <th>5</th>\n",
       "      <td>37</td>\n",
       "      <td>3</td>\n",
       "      <td>123333.333333</td>\n",
       "      <td>4.862028</td>\n",
       "      <td>47061.647734</td>\n",
       "    </tr>\n",
       "    <tr>\n",
       "      <th>6</th>\n",
       "      <td>89</td>\n",
       "      <td>8</td>\n",
       "      <td>111250.000000</td>\n",
       "      <td>7.357041</td>\n",
       "      <td>57953.872403</td>\n",
       "    </tr>\n",
       "    <tr>\n",
       "      <th>7</th>\n",
       "      <td>10</td>\n",
       "      <td>1</td>\n",
       "      <td>100000.000000</td>\n",
       "      <td>2.862368</td>\n",
       "      <td>25890.854308</td>\n",
       "    </tr>\n",
       "    <tr>\n",
       "      <th>8</th>\n",
       "      <td>20</td>\n",
       "      <td>2</td>\n",
       "      <td>100000.000000</td>\n",
       "      <td>2.902784</td>\n",
       "      <td>40793.147201</td>\n",
       "    </tr>\n",
       "    <tr>\n",
       "      <th>9</th>\n",
       "      <td>90</td>\n",
       "      <td>10</td>\n",
       "      <td>90000.000000</td>\n",
       "      <td>8.400145</td>\n",
       "      <td>48912.658514</td>\n",
       "    </tr>\n",
       "  </tbody>\n",
       "</table>\n",
       "</div>"
      ],
      "text/plain": [
       "   mult  hunt      tre_naive       perc           tre\n",
       "0    73     4  182500.000000  25.590273  24670.268874\n",
       "1    17     1  170000.000000  18.118103   8892.095533\n",
       "2    31     2  155000.000000  12.980208  20693.971594\n",
       "3    80     6  133333.333333  11.806313  44927.885279\n",
       "4    50     4  125000.000000   6.120736  49403.521388\n",
       "5    37     3  123333.333333   4.862028  47061.647734\n",
       "6    89     8  111250.000000   7.357041  57953.872403\n",
       "7    10     1  100000.000000   2.862368  25890.854308\n",
       "8    20     2  100000.000000   2.902784  40793.147201\n",
       "9    90    10   90000.000000   8.400145  48912.658514"
      ]
     },
     "execution_count": 486,
     "metadata": {},
     "output_type": "execute_result"
    }
   ],
   "source": [
    "df_sorted"
   ]
  },
  {
   "cell_type": "code",
   "execution_count": 487,
   "id": "ac8a7a30-183c-43e1-ae53-0b6a5b1e1113",
   "metadata": {},
   "outputs": [
    {
     "data": {
      "text/html": [
       "<div>\n",
       "<style scoped>\n",
       "    .dataframe tbody tr th:only-of-type {\n",
       "        vertical-align: middle;\n",
       "    }\n",
       "\n",
       "    .dataframe tbody tr th {\n",
       "        vertical-align: top;\n",
       "    }\n",
       "\n",
       "    .dataframe thead th {\n",
       "        text-align: right;\n",
       "    }\n",
       "</style>\n",
       "<table border=\"1\" class=\"dataframe\">\n",
       "  <thead>\n",
       "    <tr style=\"text-align: right;\">\n",
       "      <th></th>\n",
       "      <th>mult</th>\n",
       "      <th>hunt</th>\n",
       "      <th>tre_naive</th>\n",
       "      <th>perc</th>\n",
       "      <th>tre</th>\n",
       "    </tr>\n",
       "  </thead>\n",
       "  <tbody>\n",
       "    <tr>\n",
       "      <th>6</th>\n",
       "      <td>89</td>\n",
       "      <td>8</td>\n",
       "      <td>111250.000000</td>\n",
       "      <td>7.357041</td>\n",
       "      <td>57953.872403</td>\n",
       "    </tr>\n",
       "    <tr>\n",
       "      <th>4</th>\n",
       "      <td>50</td>\n",
       "      <td>4</td>\n",
       "      <td>125000.000000</td>\n",
       "      <td>6.120736</td>\n",
       "      <td>49403.521388</td>\n",
       "    </tr>\n",
       "    <tr>\n",
       "      <th>9</th>\n",
       "      <td>90</td>\n",
       "      <td>10</td>\n",
       "      <td>90000.000000</td>\n",
       "      <td>8.400145</td>\n",
       "      <td>48912.658514</td>\n",
       "    </tr>\n",
       "    <tr>\n",
       "      <th>5</th>\n",
       "      <td>37</td>\n",
       "      <td>3</td>\n",
       "      <td>123333.333333</td>\n",
       "      <td>4.862028</td>\n",
       "      <td>47061.647734</td>\n",
       "    </tr>\n",
       "    <tr>\n",
       "      <th>3</th>\n",
       "      <td>80</td>\n",
       "      <td>6</td>\n",
       "      <td>133333.333333</td>\n",
       "      <td>11.806313</td>\n",
       "      <td>44927.885279</td>\n",
       "    </tr>\n",
       "    <tr>\n",
       "      <th>8</th>\n",
       "      <td>20</td>\n",
       "      <td>2</td>\n",
       "      <td>100000.000000</td>\n",
       "      <td>2.902784</td>\n",
       "      <td>40793.147201</td>\n",
       "    </tr>\n",
       "    <tr>\n",
       "      <th>7</th>\n",
       "      <td>10</td>\n",
       "      <td>1</td>\n",
       "      <td>100000.000000</td>\n",
       "      <td>2.862368</td>\n",
       "      <td>25890.854308</td>\n",
       "    </tr>\n",
       "    <tr>\n",
       "      <th>0</th>\n",
       "      <td>73</td>\n",
       "      <td>4</td>\n",
       "      <td>182500.000000</td>\n",
       "      <td>25.590273</td>\n",
       "      <td>24670.268874</td>\n",
       "    </tr>\n",
       "    <tr>\n",
       "      <th>2</th>\n",
       "      <td>31</td>\n",
       "      <td>2</td>\n",
       "      <td>155000.000000</td>\n",
       "      <td>12.980208</td>\n",
       "      <td>20693.971594</td>\n",
       "    </tr>\n",
       "    <tr>\n",
       "      <th>1</th>\n",
       "      <td>17</td>\n",
       "      <td>1</td>\n",
       "      <td>170000.000000</td>\n",
       "      <td>18.118103</td>\n",
       "      <td>8892.095533</td>\n",
       "    </tr>\n",
       "  </tbody>\n",
       "</table>\n",
       "</div>"
      ],
      "text/plain": [
       "   mult  hunt      tre_naive       perc           tre\n",
       "6    89     8  111250.000000   7.357041  57953.872403\n",
       "4    50     4  125000.000000   6.120736  49403.521388\n",
       "9    90    10   90000.000000   8.400145  48912.658514\n",
       "5    37     3  123333.333333   4.862028  47061.647734\n",
       "3    80     6  133333.333333  11.806313  44927.885279\n",
       "8    20     2  100000.000000   2.902784  40793.147201\n",
       "7    10     1  100000.000000   2.862368  25890.854308\n",
       "0    73     4  182500.000000  25.590273  24670.268874\n",
       "2    31     2  155000.000000  12.980208  20693.971594\n",
       "1    17     1  170000.000000  18.118103   8892.095533"
      ]
     },
     "execution_count": 487,
     "metadata": {},
     "output_type": "execute_result"
    }
   ],
   "source": [
    "df_final = df_sorted.sort_values(by='tre', ascending=False)\n",
    "df_final"
   ]
  },
  {
   "cell_type": "code",
   "execution_count": 492,
   "id": "eec1232c-8b2a-43ed-b180-50e67ae8f746",
   "metadata": {},
   "outputs": [
    {
     "name": "stdout",
     "output_type": "stream",
     "text": [
      "Selected: 89\n",
      "Profit: 57953\n"
     ]
    }
   ],
   "source": [
    "print(f'Selected: {int(df_final.iloc[0]['mult'])}')\n",
    "print(f'Profit: {int(df_final.iloc[0]['tre'])}')"
   ]
  },
  {
   "cell_type": "markdown",
   "id": "ed91f336-ab01-4d39-9567-f19085a55a0d",
   "metadata": {},
   "source": [
    "# Sensitivity analysis"
   ]
  },
  {
   "cell_type": "code",
   "execution_count": 450,
   "id": "5fef6166-94e4-4b68-8154-eb3dc6fd7d03",
   "metadata": {},
   "outputs": [],
   "source": [
    "selected = []\n",
    "df_sum = pd.Series(data=np.zeros(10), index=df_final['mult'])\n",
    "for _ in range(1000):\n",
    "    mult = np.array([10, 80, 37, 17, 90, 31, 50, 20, 73, 89])\n",
    "    hunt = np.array([1, 6, 3, 1, 10, 2, 4, 2, 4, 8])\n",
    "    fee = 50000\n",
    "    \n",
    "    df = pd.DataFrame(data=np.array([mult.flatten(), hunt.flatten()]).T, columns=['mult', 'hunt'])\n",
    "    df = df.assign(tre_naive=lambda x: x['mult'] * 10000 / x['hunt'])\n",
    "    df_sorted = df.sort_values(by='tre_naive', ascending=False).reset_index(drop=True)\n",
    "    \n",
    "    perc = np.arange(start=15, stop=5, step=-1) ** 4.5 / 6950\n",
    "    perc += np.random.randint(0, 4, 10)\n",
    "    perc = perc / perc.sum() * 88\n",
    "    perc[-1] += 8\n",
    "    perc[6] += 4\n",
    "    perc[3] += 1\n",
    "    perc[7] -= 0.35\n",
    "    perc[8] += 0.35\n",
    "    \n",
    "    # plt.figure(figsize=(6, 3))\n",
    "    # plt.plot(perc)\n",
    "    # plt.ylabel('Percent')\n",
    "    # for i in range(10):\n",
    "    # plt.axvline(i, c='gray', alpha=0.3)\n",
    "    # plt.show()\n",
    "    \n",
    "    df_sorted = df_sorted.assign(perc=perc)\n",
    "    df_sorted = df_sorted.assign(tre=lambda x: calc_treasure(x['mult'], x['hunt'], x['perc']))\n",
    "    df_final = df_sorted.sort_values(by='tre', ascending=False)\n",
    "    # print(df_final)\n",
    "\n",
    "    df_sum = df_sum + df_final.set_index('mult', drop=True)['tre']\n",
    "    selected.append(df_final.iloc[0]['mult'])\n",
    "    selected.append(df_final.iloc[1]['mult'])"
   ]
  },
  {
   "cell_type": "code",
   "execution_count": 451,
   "id": "ab7ce3b7-9253-4fad-bbac-a581fb1a3ef9",
   "metadata": {},
   "outputs": [
    {
     "data": {
      "text/plain": [
       "mult\n",
       "89    57220.015731\n",
       "20    48115.378370\n",
       "80    47806.070171\n",
       "37    46769.497800\n",
       "90    46063.411690\n",
       "50    45716.346777\n",
       "10    33760.042103\n",
       "73    25571.946524\n",
       "31    20092.727954\n",
       "17     8797.057521\n",
       "dtype: float64"
      ]
     },
     "execution_count": 451,
     "metadata": {},
     "output_type": "execute_result"
    }
   ],
   "source": [
    "(df_sum / 1000).sort_values(ascending=False)"
   ]
  },
  {
   "cell_type": "code",
   "execution_count": 452,
   "id": "4a052cde-2ad8-4a94-8d32-a0c386eaaef3",
   "metadata": {},
   "outputs": [
    {
     "data": {
      "text/plain": [
       "(array([10., 20., 37., 50., 80., 89., 90.]),\n",
       " array([ 44, 362, 243, 120, 201, 979,  51]))"
      ]
     },
     "execution_count": 452,
     "metadata": {},
     "output_type": "execute_result"
    }
   ],
   "source": [
    "np.unique(selected, return_counts=True)"
   ]
  },
  {
   "cell_type": "code",
   "execution_count": 453,
   "id": "4f99fdb8-be11-4dc5-9d9b-dc9757e3382f",
   "metadata": {},
   "outputs": [
    {
     "data": {
      "image/png": "[encoded data removed]",
      "text/plain": [
       "<Figure size 600x400 with 1 Axes>"
      ]
     },
     "metadata": {},
     "output_type": "display_data"
    }
   ],
   "source": [
    "plt.figure(figsize=(6, 4))\n",
    "plt.hist(selected, bins=50)\n",
    "plt.show()"
   ]
  },
  {
   "cell_type": "code",
   "execution_count": 416,
   "id": "90c0cc37-c9e0-4ddf-8523-d36ccdbf8a7e",
   "metadata": {},
   "outputs": [
    {
     "data": {
      "image/png": "[encoded data removed]",
      "text/plain": [
       "<Figure size 800x500 with 1 Axes>"
      ]
     },
     "metadata": {},
     "output_type": "display_data"
    }
   ],
   "source": [
    "pct_range = np.arange(0, 30.1, 0.1)\n",
    "treasure_list = []\n",
    "for pct in pct_range:\n",
    "    perc = np.ones(mult.shape) * pct\n",
    "    treasure = calc_treasure(mult, hunt, perc)\n",
    "    treasure_list.append(treasure.flatten())\n",
    "cell_scores = []\n",
    "for i in range(treasure_list[0].shape[0]):\n",
    "    cell_scores.append([treasure[i] for treasure in treasure_list])\n",
    "plt.figure(figsize=(8, 5))\n",
    "for i, score in enumerate(cell_scores):\n",
    "    plt.plot(pct_range, score, label=mult[i])\n",
    "plt.xlabel('Percent participants')\n",
    "plt.legend()\n",
    "plt.show()"
   ]
  }
 ],
 "metadata": {
  "kernelspec": {
   "display_name": "Python 3 (ipykernel)",
   "language": "python",
   "name": "python3"
  },
  "language_info": {
   "codemirror_mode": {
    "name": "ipython",
    "version": 3
   },
   "file_extension": ".py",
   "mimetype": "text/x-python",
   "name": "python",
   "nbconvert_exporter": "python",
   "pygments_lexer": "ipython3",
   "version": "3.12.9"
  }
 },
 "nbformat": 4,
 "nbformat_minor": 5
}
