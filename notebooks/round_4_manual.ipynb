{
 "cells": [
  {
   "cell_type": "code",
   "execution_count": 1,
   "id": "c8d9487a-d2a0-4a6d-9665-3033a87e0dea",
   "metadata": {},
   "outputs": [],
   "source": [
    "import numpy as np\n",
    "import pandas as pd\n",
    "import matplotlib.pyplot as plt"
   ]
  },
  {
   "cell_type": "code",
   "execution_count": 2,
   "id": "2ff57018-7691-4e34-85cd-b79f582f9bcb",
   "metadata": {},
   "outputs": [],
   "source": [
    "def calc_treasure(mult, hunt, perc):\n",
    "    return mult * 10000 / (hunt + perc)"
   ]
  },
  {
   "cell_type": "code",
   "execution_count": 3,
   "id": "5ce6f7a6-185a-4853-bce9-ad81a78e4efa",
   "metadata": {},
   "outputs": [],
   "source": [
    "mult = np.array(\n",
    "    [[80, 50, 83, 31, 60],\n",
    "    [89, 10, 37, 70, 90],\n",
    "    [17, 40, 73, 100, 20],\n",
    "    [41, 79, 23, 47, 30]]\n",
    ")\n",
    "hunt = np.array(\n",
    "    [[6, 4, 7, 2, 4],\n",
    "    [8, 1, 3, 4, 10],\n",
    "    [1, 3, 4, 15, 2],\n",
    "    [3, 5, 2, 3, 2]]\n",
    ")"
   ]
  },
  {
   "cell_type": "markdown",
   "id": "afbcb5de-f6f7-4f40-8e49-6a06f1077ee3",
   "metadata": {},
   "source": [
    "# Naive: Uniform participant percentages"
   ]
  },
  {
   "cell_type": "code",
   "execution_count": 4,
   "id": "6ee8a0da-7f5e-4e9e-9e6d-762bda1353a1",
   "metadata": {},
   "outputs": [
    {
     "data": {
      "text/plain": [
       "array([[5., 5., 5., 5., 5.],\n",
       "       [5., 5., 5., 5., 5.],\n",
       "       [5., 5., 5., 5., 5.],\n",
       "       [5., 5., 5., 5., 5.]])"
      ]
     },
     "execution_count": 4,
     "metadata": {},
     "output_type": "execute_result"
    }
   ],
   "source": [
    "perc_naive = np.ones(mult.shape) * 100 / np.size(mult)\n",
    "perc_naive"
   ]
  },
  {
   "cell_type": "code",
   "execution_count": 5,
   "id": "57215dcf-7bd6-46b6-916e-668f11fd3328",
   "metadata": {},
   "outputs": [],
   "source": [
    "treasures = []\n",
    "for m, h, p in zip(mult.flatten(), hunt.flatten(), perc_naive.flatten()):\n",
    "    treasure = calc_treasure(m, h, p)\n",
    "    treasures.append(treasure)"
   ]
  },
  {
   "cell_type": "code",
   "execution_count": 6,
   "id": "02f2522a-81fd-4088-b367-0c60b08b6998",
   "metadata": {},
   "outputs": [],
   "source": [
    "df = pd.DataFrame(data=np.array([mult.flatten(), hunt.flatten(), perc_naive.flatten(), treasures]).T, columns=['mult', 'hunt', 'perc_naive', 'tre_naive'])"
   ]
  },
  {
   "cell_type": "code",
   "execution_count": 7,
   "id": "a00f87fb-7f6a-4fc3-a6e5-66fbe7f4b6fe",
   "metadata": {},
   "outputs": [],
   "source": [
    "df_sorted = df.sort_values(by='tre_naive', ascending=False).reset_index(drop=True)"
   ]
  },
  {
   "cell_type": "code",
   "execution_count": 8,
   "id": "80807a32-d5e2-410e-aab8-d5a4460139c3",
   "metadata": {},
   "outputs": [
    {
     "data": {
      "text/html": [
       "<div>\n",
       "<style scoped>\n",
       "    .dataframe tbody tr th:only-of-type {\n",
       "        vertical-align: middle;\n",
       "    }\n",
       "\n",
       "    .dataframe tbody tr th {\n",
       "        vertical-align: top;\n",
       "    }\n",
       "\n",
       "    .dataframe thead th {\n",
       "        text-align: right;\n",
       "    }\n",
       "</style>\n",
       "<table border=\"1\" class=\"dataframe\">\n",
       "  <thead>\n",
       "    <tr style=\"text-align: right;\">\n",
       "      <th></th>\n",
       "      <th>mult</th>\n",
       "      <th>hunt</th>\n",
       "      <th>perc_naive</th>\n",
       "      <th>tre_naive</th>\n",
       "    </tr>\n",
       "  </thead>\n",
       "  <tbody>\n",
       "    <tr>\n",
       "      <th>0</th>\n",
       "      <td>73.0</td>\n",
       "      <td>4.0</td>\n",
       "      <td>5.0</td>\n",
       "      <td>81111.111111</td>\n",
       "    </tr>\n",
       "    <tr>\n",
       "      <th>1</th>\n",
       "      <td>79.0</td>\n",
       "      <td>5.0</td>\n",
       "      <td>5.0</td>\n",
       "      <td>79000.000000</td>\n",
       "    </tr>\n",
       "    <tr>\n",
       "      <th>2</th>\n",
       "      <td>70.0</td>\n",
       "      <td>4.0</td>\n",
       "      <td>5.0</td>\n",
       "      <td>77777.777778</td>\n",
       "    </tr>\n",
       "    <tr>\n",
       "      <th>3</th>\n",
       "      <td>80.0</td>\n",
       "      <td>6.0</td>\n",
       "      <td>5.0</td>\n",
       "      <td>72727.272727</td>\n",
       "    </tr>\n",
       "    <tr>\n",
       "      <th>4</th>\n",
       "      <td>83.0</td>\n",
       "      <td>7.0</td>\n",
       "      <td>5.0</td>\n",
       "      <td>69166.666667</td>\n",
       "    </tr>\n",
       "    <tr>\n",
       "      <th>5</th>\n",
       "      <td>89.0</td>\n",
       "      <td>8.0</td>\n",
       "      <td>5.0</td>\n",
       "      <td>68461.538462</td>\n",
       "    </tr>\n",
       "    <tr>\n",
       "      <th>6</th>\n",
       "      <td>60.0</td>\n",
       "      <td>4.0</td>\n",
       "      <td>5.0</td>\n",
       "      <td>66666.666667</td>\n",
       "    </tr>\n",
       "    <tr>\n",
       "      <th>7</th>\n",
       "      <td>90.0</td>\n",
       "      <td>10.0</td>\n",
       "      <td>5.0</td>\n",
       "      <td>60000.000000</td>\n",
       "    </tr>\n",
       "    <tr>\n",
       "      <th>8</th>\n",
       "      <td>47.0</td>\n",
       "      <td>3.0</td>\n",
       "      <td>5.0</td>\n",
       "      <td>58750.000000</td>\n",
       "    </tr>\n",
       "    <tr>\n",
       "      <th>9</th>\n",
       "      <td>50.0</td>\n",
       "      <td>4.0</td>\n",
       "      <td>5.0</td>\n",
       "      <td>55555.555556</td>\n",
       "    </tr>\n",
       "    <tr>\n",
       "      <th>10</th>\n",
       "      <td>41.0</td>\n",
       "      <td>3.0</td>\n",
       "      <td>5.0</td>\n",
       "      <td>51250.000000</td>\n",
       "    </tr>\n",
       "    <tr>\n",
       "      <th>11</th>\n",
       "      <td>100.0</td>\n",
       "      <td>15.0</td>\n",
       "      <td>5.0</td>\n",
       "      <td>50000.000000</td>\n",
       "    </tr>\n",
       "    <tr>\n",
       "      <th>12</th>\n",
       "      <td>40.0</td>\n",
       "      <td>3.0</td>\n",
       "      <td>5.0</td>\n",
       "      <td>50000.000000</td>\n",
       "    </tr>\n",
       "    <tr>\n",
       "      <th>13</th>\n",
       "      <td>37.0</td>\n",
       "      <td>3.0</td>\n",
       "      <td>5.0</td>\n",
       "      <td>46250.000000</td>\n",
       "    </tr>\n",
       "    <tr>\n",
       "      <th>14</th>\n",
       "      <td>31.0</td>\n",
       "      <td>2.0</td>\n",
       "      <td>5.0</td>\n",
       "      <td>44285.714286</td>\n",
       "    </tr>\n",
       "    <tr>\n",
       "      <th>15</th>\n",
       "      <td>30.0</td>\n",
       "      <td>2.0</td>\n",
       "      <td>5.0</td>\n",
       "      <td>42857.142857</td>\n",
       "    </tr>\n",
       "    <tr>\n",
       "      <th>16</th>\n",
       "      <td>23.0</td>\n",
       "      <td>2.0</td>\n",
       "      <td>5.0</td>\n",
       "      <td>32857.142857</td>\n",
       "    </tr>\n",
       "    <tr>\n",
       "      <th>17</th>\n",
       "      <td>20.0</td>\n",
       "      <td>2.0</td>\n",
       "      <td>5.0</td>\n",
       "      <td>28571.428571</td>\n",
       "    </tr>\n",
       "    <tr>\n",
       "      <th>18</th>\n",
       "      <td>17.0</td>\n",
       "      <td>1.0</td>\n",
       "      <td>5.0</td>\n",
       "      <td>28333.333333</td>\n",
       "    </tr>\n",
       "    <tr>\n",
       "      <th>19</th>\n",
       "      <td>10.0</td>\n",
       "      <td>1.0</td>\n",
       "      <td>5.0</td>\n",
       "      <td>16666.666667</td>\n",
       "    </tr>\n",
       "  </tbody>\n",
       "</table>\n",
       "</div>"
      ],
      "text/plain": [
       "     mult  hunt  perc_naive     tre_naive\n",
       "0    73.0   4.0         5.0  81111.111111\n",
       "1    79.0   5.0         5.0  79000.000000\n",
       "2    70.0   4.0         5.0  77777.777778\n",
       "3    80.0   6.0         5.0  72727.272727\n",
       "4    83.0   7.0         5.0  69166.666667\n",
       "5    89.0   8.0         5.0  68461.538462\n",
       "6    60.0   4.0         5.0  66666.666667\n",
       "7    90.0  10.0         5.0  60000.000000\n",
       "8    47.0   3.0         5.0  58750.000000\n",
       "9    50.0   4.0         5.0  55555.555556\n",
       "10   41.0   3.0         5.0  51250.000000\n",
       "11  100.0  15.0         5.0  50000.000000\n",
       "12   40.0   3.0         5.0  50000.000000\n",
       "13   37.0   3.0         5.0  46250.000000\n",
       "14   31.0   2.0         5.0  44285.714286\n",
       "15   30.0   2.0         5.0  42857.142857\n",
       "16   23.0   2.0         5.0  32857.142857\n",
       "17   20.0   2.0         5.0  28571.428571\n",
       "18   17.0   1.0         5.0  28333.333333\n",
       "19   10.0   1.0         5.0  16666.666667"
      ]
     },
     "execution_count": 8,
     "metadata": {},
     "output_type": "execute_result"
    }
   ],
   "source": [
    "df_sorted"
   ]
  },
  {
   "cell_type": "code",
   "execution_count": 20,
   "id": "a1405ee1-ffeb-421e-a5c7-3d3bacdbc79f",
   "metadata": {},
   "outputs": [
    {
     "data": {
      "image/png": "[encoded data removed]",
      "text/plain": [
       "<Figure size 600x300 with 1 Axes>"
      ]
     },
     "metadata": {},
     "output_type": "display_data"
    }
   ],
   "source": [
    "perc = np.linspace(1, 0.1, 20)** 3\n",
    "perc = perc / perc.sum() * 100\n",
    "perc += np.random.randint(0, 3, 20)\n",
    "perc = perc / perc.sum() * 100\n",
    "\n",
    "plt.figure(figsize=(6, 3))\n",
    "plt.plot(perc)\n",
    "plt.ylabel('Percent')\n",
    "for i in range(20):\n",
    "    plt.axvline(i, c='gray', alpha=0.3)\n",
    "plt.show()"
   ]
  },
  {
   "cell_type": "code",
   "execution_count": 21,
   "id": "dc944d5f-fcec-45b6-8fab-24972ed39863",
   "metadata": {},
   "outputs": [],
   "source": [
    "df_sorted = df_sorted.assign(perc=perc)"
   ]
  },
  {
   "cell_type": "code",
   "execution_count": 22,
   "id": "bdd046a9-bdd9-4f58-9cad-df5e6fd46b29",
   "metadata": {},
   "outputs": [],
   "source": [
    "df_sorted = df_sorted.assign(tre=lambda x: calc_treasure(x['mult'], x['hunt'], x['perc']))"
   ]
  },
  {
   "cell_type": "code",
   "execution_count": 23,
   "id": "2b1dd2a5-c59b-4912-9ae0-b68414324a80",
   "metadata": {},
   "outputs": [
    {
     "data": {
      "text/html": [
       "<div>\n",
       "<style scoped>\n",
       "    .dataframe tbody tr th:only-of-type {\n",
       "        vertical-align: middle;\n",
       "    }\n",
       "\n",
       "    .dataframe tbody tr th {\n",
       "        vertical-align: top;\n",
       "    }\n",
       "\n",
       "    .dataframe thead th {\n",
       "        text-align: right;\n",
       "    }\n",
       "</style>\n",
       "<table border=\"1\" class=\"dataframe\">\n",
       "  <thead>\n",
       "    <tr style=\"text-align: right;\">\n",
       "      <th></th>\n",
       "      <th>mult</th>\n",
       "      <th>hunt</th>\n",
       "      <th>perc_naive</th>\n",
       "      <th>tre_naive</th>\n",
       "      <th>perc</th>\n",
       "      <th>tre</th>\n",
       "    </tr>\n",
       "  </thead>\n",
       "  <tbody>\n",
       "    <tr>\n",
       "      <th>15</th>\n",
       "      <td>30.0</td>\n",
       "      <td>2.0</td>\n",
       "      <td>5.0</td>\n",
       "      <td>42857.142857</td>\n",
       "      <td>0.346260</td>\n",
       "      <td>127863.046045</td>\n",
       "    </tr>\n",
       "    <tr>\n",
       "      <th>14</th>\n",
       "      <td>31.0</td>\n",
       "      <td>2.0</td>\n",
       "      <td>5.0</td>\n",
       "      <td>44285.714286</td>\n",
       "      <td>0.545575</td>\n",
       "      <td>121779.939270</td>\n",
       "    </tr>\n",
       "    <tr>\n",
       "      <th>13</th>\n",
       "      <td>37.0</td>\n",
       "      <td>3.0</td>\n",
       "      <td>5.0</td>\n",
       "      <td>46250.000000</td>\n",
       "      <td>0.809624</td>\n",
       "      <td>97122.448088</td>\n",
       "    </tr>\n",
       "    <tr>\n",
       "      <th>18</th>\n",
       "      <td>17.0</td>\n",
       "      <td>1.0</td>\n",
       "      <td>5.0</td>\n",
       "      <td>28333.333333</td>\n",
       "      <td>0.872133</td>\n",
       "      <td>90805.520136</td>\n",
       "    </tr>\n",
       "    <tr>\n",
       "      <th>10</th>\n",
       "      <td>41.0</td>\n",
       "      <td>3.0</td>\n",
       "      <td>5.0</td>\n",
       "      <td>51250.000000</td>\n",
       "      <td>2.081204</td>\n",
       "      <td>80689.530460</td>\n",
       "    </tr>\n",
       "    <tr>\n",
       "      <th>12</th>\n",
       "      <td>40.0</td>\n",
       "      <td>3.0</td>\n",
       "      <td>5.0</td>\n",
       "      <td>50000.000000</td>\n",
       "      <td>1.973956</td>\n",
       "      <td>80418.889002</td>\n",
       "    </tr>\n",
       "    <tr>\n",
       "      <th>16</th>\n",
       "      <td>23.0</td>\n",
       "      <td>2.0</td>\n",
       "      <td>5.0</td>\n",
       "      <td>32857.142857</td>\n",
       "      <td>1.029022</td>\n",
       "      <td>75932.089613</td>\n",
       "    </tr>\n",
       "    <tr>\n",
       "      <th>17</th>\n",
       "      <td>20.0</td>\n",
       "      <td>2.0</td>\n",
       "      <td>5.0</td>\n",
       "      <td>28571.428571</td>\n",
       "      <td>0.931866</td>\n",
       "      <td>68215.952610</td>\n",
       "    </tr>\n",
       "    <tr>\n",
       "      <th>9</th>\n",
       "      <td>50.0</td>\n",
       "      <td>4.0</td>\n",
       "      <td>5.0</td>\n",
       "      <td>55555.555556</td>\n",
       "      <td>3.521666</td>\n",
       "      <td>66474.631394</td>\n",
       "    </tr>\n",
       "    <tr>\n",
       "      <th>6</th>\n",
       "      <td>60.0</td>\n",
       "      <td>4.0</td>\n",
       "      <td>5.0</td>\n",
       "      <td>66666.666667</td>\n",
       "      <td>5.235178</td>\n",
       "      <td>64968.968455</td>\n",
       "    </tr>\n",
       "    <tr>\n",
       "      <th>5</th>\n",
       "      <td>89.0</td>\n",
       "      <td>8.0</td>\n",
       "      <td>5.0</td>\n",
       "      <td>68461.538462</td>\n",
       "      <td>6.344812</td>\n",
       "      <td>62043.337208</td>\n",
       "    </tr>\n",
       "    <tr>\n",
       "      <th>8</th>\n",
       "      <td>47.0</td>\n",
       "      <td>3.0</td>\n",
       "      <td>5.0</td>\n",
       "      <td>58750.000000</td>\n",
       "      <td>5.072378</td>\n",
       "      <td>58223.239457</td>\n",
       "    </tr>\n",
       "    <tr>\n",
       "      <th>7</th>\n",
       "      <td>90.0</td>\n",
       "      <td>10.0</td>\n",
       "      <td>5.0</td>\n",
       "      <td>60000.000000</td>\n",
       "      <td>5.915996</td>\n",
       "      <td>56546.884057</td>\n",
       "    </tr>\n",
       "    <tr>\n",
       "      <th>11</th>\n",
       "      <td>100.0</td>\n",
       "      <td>15.0</td>\n",
       "      <td>5.0</td>\n",
       "      <td>50000.000000</td>\n",
       "      <td>3.221228</td>\n",
       "      <td>54881.043538</td>\n",
       "    </tr>\n",
       "    <tr>\n",
       "      <th>4</th>\n",
       "      <td>83.0</td>\n",
       "      <td>7.0</td>\n",
       "      <td>5.0</td>\n",
       "      <td>69166.666667</td>\n",
       "      <td>8.427554</td>\n",
       "      <td>53799.843001</td>\n",
       "    </tr>\n",
       "    <tr>\n",
       "      <th>3</th>\n",
       "      <td>80.0</td>\n",
       "      <td>6.0</td>\n",
       "      <td>5.0</td>\n",
       "      <td>72727.272727</td>\n",
       "      <td>10.666062</td>\n",
       "      <td>48001.740283</td>\n",
       "    </tr>\n",
       "    <tr>\n",
       "      <th>2</th>\n",
       "      <td>70.0</td>\n",
       "      <td>4.0</td>\n",
       "      <td>5.0</td>\n",
       "      <td>77777.777778</td>\n",
       "      <td>12.242993</td>\n",
       "      <td>43095.505581</td>\n",
       "    </tr>\n",
       "    <tr>\n",
       "      <th>1</th>\n",
       "      <td>79.0</td>\n",
       "      <td>5.0</td>\n",
       "      <td>5.0</td>\n",
       "      <td>79000.000000</td>\n",
       "      <td>13.993896</td>\n",
       "      <td>41592.309823</td>\n",
       "    </tr>\n",
       "    <tr>\n",
       "      <th>0</th>\n",
       "      <td>73.0</td>\n",
       "      <td>4.0</td>\n",
       "      <td>5.0</td>\n",
       "      <td>81111.111111</td>\n",
       "      <td>15.101427</td>\n",
       "      <td>38217.039018</td>\n",
       "    </tr>\n",
       "    <tr>\n",
       "      <th>19</th>\n",
       "      <td>10.0</td>\n",
       "      <td>1.0</td>\n",
       "      <td>5.0</td>\n",
       "      <td>16666.666667</td>\n",
       "      <td>1.667168</td>\n",
       "      <td>37492.957746</td>\n",
       "    </tr>\n",
       "  </tbody>\n",
       "</table>\n",
       "</div>"
      ],
      "text/plain": [
       "     mult  hunt  perc_naive     tre_naive       perc            tre\n",
       "15   30.0   2.0         5.0  42857.142857   0.346260  127863.046045\n",
       "14   31.0   2.0         5.0  44285.714286   0.545575  121779.939270\n",
       "13   37.0   3.0         5.0  46250.000000   0.809624   97122.448088\n",
       "18   17.0   1.0         5.0  28333.333333   0.872133   90805.520136\n",
       "10   41.0   3.0         5.0  51250.000000   2.081204   80689.530460\n",
       "12   40.0   3.0         5.0  50000.000000   1.973956   80418.889002\n",
       "16   23.0   2.0         5.0  32857.142857   1.029022   75932.089613\n",
       "17   20.0   2.0         5.0  28571.428571   0.931866   68215.952610\n",
       "9    50.0   4.0         5.0  55555.555556   3.521666   66474.631394\n",
       "6    60.0   4.0         5.0  66666.666667   5.235178   64968.968455\n",
       "5    89.0   8.0         5.0  68461.538462   6.344812   62043.337208\n",
       "8    47.0   3.0         5.0  58750.000000   5.072378   58223.239457\n",
       "7    90.0  10.0         5.0  60000.000000   5.915996   56546.884057\n",
       "11  100.0  15.0         5.0  50000.000000   3.221228   54881.043538\n",
       "4    83.0   7.0         5.0  69166.666667   8.427554   53799.843001\n",
       "3    80.0   6.0         5.0  72727.272727  10.666062   48001.740283\n",
       "2    70.0   4.0         5.0  77777.777778  12.242993   43095.505581\n",
       "1    79.0   5.0         5.0  79000.000000  13.993896   41592.309823\n",
       "0    73.0   4.0         5.0  81111.111111  15.101427   38217.039018\n",
       "19   10.0   1.0         5.0  16666.666667   1.667168   37492.957746"
      ]
     },
     "execution_count": 23,
     "metadata": {},
     "output_type": "execute_result"
    }
   ],
   "source": [
    "df_final = df_sorted.sort_values(by='tre', ascending=False)\n",
    "df_final"
   ]
  },
  {
   "cell_type": "code",
   "execution_count": 24,
   "id": "deea0f61-33da-4851-809e-06e8ec51a5e0",
   "metadata": {},
   "outputs": [
    {
     "name": "stdout",
     "output_type": "stream",
     "text": [
      "Selected: 30, 31, 37\n",
      "Profit: 127863, 71779, -2878\n"
     ]
    }
   ],
   "source": [
    "print(f'Selected: {int(df_final.iloc[0]['mult'])}, {int(df_final.iloc[1]['mult'])}, {int(df_final.iloc[2]['mult'])}')\n",
    "print(f'Profit: {int(df_final.iloc[0]['tre'])}, {int(df_final.iloc[1]['tre']) - 50000}, {int(df_final.iloc[2]['tre']) - 100000}')"
   ]
  },
  {
   "cell_type": "markdown",
   "id": "d733ee79-8dcf-4e87-9ae5-4a5f73849c01",
   "metadata": {},
   "source": [
    "# Naive: Round 2 percentage profile"
   ]
  },
  {
   "cell_type": "code",
   "execution_count": 73,
   "id": "e398d51f-3001-4654-9211-825da9f9eac1",
   "metadata": {},
   "outputs": [],
   "source": [
    "perc_naive = np.ones(mult.shape) * 100 / np.size(mult)\n",
    "treasures = []\n",
    "for m, h, p in zip(mult.flatten(), hunt.flatten(), perc_naive.flatten()):\n",
    "    treasure = calc_treasure(m, h, p)\n",
    "    treasures.append(treasure)\n",
    "\n",
    "df = pd.DataFrame(data=np.array([mult.flatten(), hunt.flatten(), perc_naive.flatten(), treasures]).T, columns=['mult', 'hunt', 'perc_naive', 'tre_naive'])\n",
    "df_sorted = df.sort_values(by='tre_naive', ascending=False).reset_index(drop=True)"
   ]
  },
  {
   "cell_type": "code",
   "execution_count": 77,
   "id": "99f99c48-31fd-4692-99e5-66d29cd09ac6",
   "metadata": {},
   "outputs": [
    {
     "data": {
      "image/png": "[encoded data removed]",
      "text/plain": [
       "<Figure size 600x300 with 1 Axes>"
      ]
     },
     "metadata": {},
     "output_type": "display_data"
    }
   ],
   "source": [
    "perc = np.linspace(1, 0.1, 20) ** 2\n",
    "perc = perc / perc.sum() * 100\n",
    "# perc += np.random.randint(0, 3, 20)\n",
    "perc = perc / perc.sum() * 100\n",
    "\n",
    "plt.figure(figsize=(6, 3))\n",
    "plt.plot(perc)\n",
    "plt.ylabel('Percent')\n",
    "for i in range(20):\n",
    "    plt.axvline(i, c='gray', alpha=0.3)\n",
    "plt.show()"
   ]
  },
  {
   "cell_type": "code",
   "execution_count": 78,
   "id": "efdc58b2-f449-4f0e-b4d8-435eb0ccb988",
   "metadata": {},
   "outputs": [],
   "source": [
    "perc_naive = perc\n",
    "treasures = []\n",
    "for m, h, p in zip(mult.flatten(), hunt.flatten(), perc_naive.flatten()):\n",
    "    treasure = calc_treasure(m, h, p)\n",
    "    treasures.append(treasure)\n",
    "df_sorted['perc_naive'] = perc_naive\n",
    "df_sorted['tre_naive'] = treasures"
   ]
  },
  {
   "cell_type": "code",
   "execution_count": 79,
   "id": "fb0a624a-6bb6-4f4e-9088-dbcd89969154",
   "metadata": {},
   "outputs": [],
   "source": [
    "df_sorted = df_sorted.sort_values(by='tre_naive', ascending=False).reset_index(drop=True)"
   ]
  },
  {
   "cell_type": "code",
   "execution_count": 150,
   "id": "aedb631a-c81b-4cb7-8421-1d51df9615c0",
   "metadata": {},
   "outputs": [
    {
     "data": {
      "image/png": "[encoded data removed]",
      "text/plain": [
       "<Figure size 600x300 with 1 Axes>"
      ]
     },
     "metadata": {},
     "output_type": "display_data"
    }
   ],
   "source": [
    "perc = np.linspace(1, 0.1, 20) ** 2\n",
    "perc = perc / perc.sum() * 100\n",
    "perc += np.random.randint(0, 3, 20)\n",
    "perc = perc / perc.sum() * 100\n",
    "\n",
    "plt.figure(figsize=(6, 3))\n",
    "plt.plot(perc)\n",
    "plt.ylabel('Percent')\n",
    "for i in range(20):\n",
    "    plt.axvline(i, c='gray', alpha=0.3)\n",
    "plt.show()"
   ]
  },
  {
   "cell_type": "code",
   "execution_count": 151,
   "id": "8bc02aa2-89d3-4219-9e7c-58f2fdee6b51",
   "metadata": {},
   "outputs": [
    {
     "data": {
      "text/html": [
       "<div>\n",
       "<style scoped>\n",
       "    .dataframe tbody tr th:only-of-type {\n",
       "        vertical-align: middle;\n",
       "    }\n",
       "\n",
       "    .dataframe tbody tr th {\n",
       "        vertical-align: top;\n",
       "    }\n",
       "\n",
       "    .dataframe thead th {\n",
       "        text-align: right;\n",
       "    }\n",
       "</style>\n",
       "<table border=\"1\" class=\"dataframe\">\n",
       "  <thead>\n",
       "    <tr style=\"text-align: right;\">\n",
       "      <th></th>\n",
       "      <th>mult</th>\n",
       "      <th>hunt</th>\n",
       "      <th>perc_naive</th>\n",
       "      <th>tre_naive</th>\n",
       "      <th>perc</th>\n",
       "      <th>tre</th>\n",
       "    </tr>\n",
       "  </thead>\n",
       "  <tbody>\n",
       "    <tr>\n",
       "      <th>17</th>\n",
       "      <td>79.0</td>\n",
       "      <td>5.0</td>\n",
       "      <td>12.032541</td>\n",
       "      <td>31186.571917</td>\n",
       "      <td>0.422529</td>\n",
       "      <td>145688.474031</td>\n",
       "    </tr>\n",
       "    <tr>\n",
       "      <th>14</th>\n",
       "      <td>73.0</td>\n",
       "      <td>4.0</td>\n",
       "      <td>13.258897</td>\n",
       "      <td>41539.241974</td>\n",
       "      <td>1.264192</td>\n",
       "      <td>138672.741500</td>\n",
       "    </tr>\n",
       "    <tr>\n",
       "      <th>13</th>\n",
       "      <td>70.0</td>\n",
       "      <td>4.0</td>\n",
       "      <td>10.865685</td>\n",
       "      <td>46457.776983</td>\n",
       "      <td>1.644746</td>\n",
       "      <td>124009.112118</td>\n",
       "    </tr>\n",
       "    <tr>\n",
       "      <th>19</th>\n",
       "      <td>60.0</td>\n",
       "      <td>4.0</td>\n",
       "      <td>6.793257</td>\n",
       "      <td>12831.606083</td>\n",
       "      <td>0.951755</td>\n",
       "      <td>121169.150458</td>\n",
       "    </tr>\n",
       "    <tr>\n",
       "      <th>18</th>\n",
       "      <td>80.0</td>\n",
       "      <td>6.0</td>\n",
       "      <td>9.758328</td>\n",
       "      <td>26364.292318</td>\n",
       "      <td>1.082310</td>\n",
       "      <td>112957.487975</td>\n",
       "    </tr>\n",
       "  </tbody>\n",
       "</table>\n",
       "</div>"
      ],
      "text/plain": [
       "    mult  hunt  perc_naive     tre_naive      perc            tre\n",
       "17  79.0   5.0   12.032541  31186.571917  0.422529  145688.474031\n",
       "14  73.0   4.0   13.258897  41539.241974  1.264192  138672.741500\n",
       "13  70.0   4.0   10.865685  46457.776983  1.644746  124009.112118\n",
       "19  60.0   4.0    6.793257  12831.606083  0.951755  121169.150458\n",
       "18  80.0   6.0    9.758328  26364.292318  1.082310  112957.487975"
      ]
     },
     "execution_count": 151,
     "metadata": {},
     "output_type": "execute_result"
    }
   ],
   "source": [
    "df_sorted = df_sorted.assign(perc=perc)\n",
    "df_sorted = df_sorted.assign(tre=lambda x: calc_treasure(x['mult'], x['hunt'], x['perc']))\n",
    "df_final = df_sorted.sort_values(by='tre', ascending=False)\n",
    "df_final[df_final['tre'] > 100000]"
   ]
  },
  {
   "cell_type": "code",
   "execution_count": 154,
   "id": "4ae741db-bcb1-42ae-b05f-9386415f231c",
   "metadata": {},
   "outputs": [
    {
     "data": {
      "text/plain": [
       "(array([60., 70., 73., 79., 80.]), array([6613, 2549, 3840, 6566, 6190]))"
      ]
     },
     "execution_count": 154,
     "metadata": {},
     "output_type": "execute_result"
    }
   ],
   "source": [
    "profitable = []\n",
    "for _ in range(10000):\n",
    "    perc = np.linspace(1, 0.1, 20) ** 1\n",
    "    perc = perc / perc.sum() * 100\n",
    "    perc += np.random.randint(0, 3, 20)\n",
    "    perc = perc / perc.sum() * 100\n",
    "\n",
    "    df_sorted = df_sorted.assign(perc=perc)\n",
    "    df_sorted = df_sorted.assign(tre=lambda x: calc_treasure(x['mult'], x['hunt'], x['perc']))\n",
    "    df_final = df_sorted.sort_values(by='tre', ascending=False)\n",
    "    profitable.extend(list(df_final[df_final['tre'] > 100000]['mult']))\n",
    "np.unique(profitable, return_counts=True)"
   ]
  },
  {
   "cell_type": "markdown",
   "id": "2b56d34b-be9c-4e01-bb2b-768dc9b4922c",
   "metadata": {},
   "source": [
    "-> 60, 79"
   ]
  },
  {
   "cell_type": "code",
   "execution_count": 155,
   "id": "3dd79e12-62c7-491a-bbca-5eb42755b341",
   "metadata": {},
   "outputs": [
    {
     "data": {
      "text/plain": [
       "(array([41., 60., 70., 73., 79., 80.]),\n",
       " array([  757,  9461,  4130,  6890, 10000,  6688]))"
      ]
     },
     "execution_count": 155,
     "metadata": {},
     "output_type": "execute_result"
    }
   ],
   "source": [
    "profitable = []\n",
    "for _ in range(10000):\n",
    "    perc = np.linspace(1, 0.1, 20) ** 1.5\n",
    "    perc = perc / perc.sum() * 100\n",
    "    perc += np.random.randint(0, 3, 20)\n",
    "    perc = perc / perc.sum() * 100\n",
    "\n",
    "    df_sorted = df_sorted.assign(perc=perc)\n",
    "    df_sorted = df_sorted.assign(tre=lambda x: calc_treasure(x['mult'], x['hunt'], x['perc']))\n",
    "    df_final = df_sorted.sort_values(by='tre', ascending=False)\n",
    "    profitable.extend(list(df_final[df_final['tre'] > 100000]['mult']))\n",
    "np.unique(profitable, return_counts=True)"
   ]
  },
  {
   "cell_type": "markdown",
   "id": "c08034d0-dbce-42af-9864-59066098e2fe",
   "metadata": {},
   "source": [
    "-> 60, 79"
   ]
  },
  {
   "cell_type": "code",
   "execution_count": 156,
   "id": "b8ba540f-7d30-49fb-abca-94208f779bbd",
   "metadata": {},
   "outputs": [
    {
     "data": {
      "text/plain": [
       "(array([41., 60., 70., 73., 79., 80.]),\n",
       " array([ 3376, 10000,  6655, 10000, 10000,  9902]))"
      ]
     },
     "execution_count": 156,
     "metadata": {},
     "output_type": "execute_result"
    }
   ],
   "source": [
    "profitable = []\n",
    "for _ in range(10000):\n",
    "    perc = np.linspace(1, 0.1, 20) ** 2\n",
    "    perc = perc / perc.sum() * 100\n",
    "    perc += np.random.randint(0, 3, 20)\n",
    "    perc = perc / perc.sum() * 100\n",
    "\n",
    "    df_sorted = df_sorted.assign(perc=perc)\n",
    "    df_sorted = df_sorted.assign(tre=lambda x: calc_treasure(x['mult'], x['hunt'], x['perc']))\n",
    "    df_final = df_sorted.sort_values(by='tre', ascending=False)\n",
    "    profitable.extend(list(df_final[df_final['tre'] > 100000]['mult']))\n",
    "np.unique(profitable, return_counts=True)"
   ]
  },
  {
   "cell_type": "markdown",
   "id": "7a937ef7-fad9-46c9-a18b-dc7b133b5cc1",
   "metadata": {},
   "source": [
    "-> 60, 73, 79"
   ]
  }
 ],
 "metadata": {
  "kernelspec": {
   "display_name": "Python 3 (ipykernel)",
   "language": "python",
   "name": "python3"
  },
  "language_info": {
   "codemirror_mode": {
    "name": "ipython",
    "version": 3
   },
   "file_extension": ".py",
   "mimetype": "text/x-python",
   "name": "python",
   "nbconvert_exporter": "python",
   "pygments_lexer": "ipython3",
   "version": "3.12.9"
  }
 },
 "nbformat": 4,
 "nbformat_minor": 5
}
