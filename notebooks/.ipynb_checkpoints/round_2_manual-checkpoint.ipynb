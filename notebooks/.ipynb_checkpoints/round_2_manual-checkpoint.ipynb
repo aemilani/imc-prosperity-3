{
 "cells": [
  {
   "cell_type": "code",
   "execution_count": 1,
   "id": "eb8f04eb-4756-4850-9d92-2b78ac491eb2",
   "metadata": {},
   "outputs": [],
   "source": [
    "import numpy as np"
   ]
  },
  {
   "cell_type": "code",
   "execution_count": 2,
   "id": "f186b7cd-2ad3-46db-9c63-69bb1fbb5e85",
   "metadata": {},
   "outputs": [],
   "source": [
    "prod_dict = {\n",
    "    0: 'Pizza Slices',\n",
    "    1: 'Wasabi Roots',\n",
    "    2: 'Snowballs',\n",
    "    3: 'Sea Shells'\n",
    "}"
   ]
  },
  {
   "cell_type": "code",
   "execution_count": 3,
   "id": "419bfe00-ccd1-49be-880a-4aac1f6405c0",
   "metadata": {},
   "outputs": [
    {
     "name": "stdout",
     "output_type": "stream",
     "text": [
      "[[1.   0.48 1.52 0.71]\n",
      " [2.05 1.   3.26 1.56]\n",
      " [0.64 0.3  1.   0.46]\n",
      " [1.41 0.61 2.08 1.  ]]\n"
     ]
    }
   ],
   "source": [
    "conv = np.array([\n",
    "[1, 0.48, 1.52, 0.71],\n",
    "[2.05, 1, 3.26, 1.56],\n",
    "[0.64, 0.3, 1, 0.46],\n",
    "[1.41, 0.61, 2.08, 1]\n",
    "])\n",
    "print(conv)"
   ]
  },
  {
   "cell_type": "code",
   "execution_count": 48,
   "id": "f6aebcc2-aa19-41fe-bcdb-328cd7241fb5",
   "metadata": {},
   "outputs": [
    {
     "name": "stdout",
     "output_type": "stream",
     "text": [
      "1.0010999999999999\n",
      "0\n"
     ]
    }
   ],
   "source": [
    "pnls = {}\n",
    "for p1 in range(4):\n",
    "    prod = conv[3, p1] * conv[p1, 3]\n",
    "    pnls[p1] = prod\n",
    "\n",
    "max_pnl = max(pnls.values())\n",
    "print(max_pnl)\n",
    "best_convs = [k for k in pnls.keys() if pnls[k] == max_pnl][0]\n",
    "print(best_convs)"
   ]
  },
  {
   "cell_type": "code",
   "execution_count": 49,
   "id": "983a8acc-190f-4f57-b21c-71bd08bf96d8",
   "metadata": {},
   "outputs": [
    {
     "name": "stdout",
     "output_type": "stream",
     "text": [
      "1.055808\n",
      "(0, 1)\n"
     ]
    }
   ],
   "source": [
    "pnls = {}\n",
    "for p1 in range(4):\n",
    "    for p2 in range(4):\n",
    "        prod = conv[3, p1] * conv[p1, p2] * conv[p2, 3]\n",
    "        pnls[(p1, p2)] = prod\n",
    "\n",
    "max_pnl = max(pnls.values())\n",
    "print(max_pnl)\n",
    "best_convs = [k for k in pnls.keys() if pnls[k] == max_pnl][0]\n",
    "print(best_convs)"
   ]
  },
  {
   "cell_type": "code",
   "execution_count": 50,
   "id": "1c8aa1aa-c0d7-41a2-9f54-8262dbe0093a",
   "metadata": {},
   "outputs": [
    {
     "name": "stdout",
     "output_type": "stream",
     "text": [
      "1.055808\n",
      "(0, 0, 1)\n"
     ]
    }
   ],
   "source": [
    "pnls = {}\n",
    "for p1 in range(4):\n",
    "    for p2 in range(4):\n",
    "        for p3 in range(4):\n",
    "            prod = conv[3, p1] * conv[p1, p2] * conv[p2, p3] * conv[p3, 3]\n",
    "            pnls[(p1, p2, p3,)] = prod\n",
    "\n",
    "max_pnl = max(pnls.values())\n",
    "print(max_pnl)\n",
    "best_convs = [k for k in pnls.keys() if pnls[k] == max_pnl][0]\n",
    "print(best_convs)"
   ]
  },
  {
   "cell_type": "code",
   "execution_count": 51,
   "id": "922ebd37-a10d-4942-bb0b-05d040d91351",
   "metadata": {},
   "outputs": [
    {
     "name": "stdout",
     "output_type": "stream",
     "text": [
      "1.0569693888\n",
      "(0, 1, 3, 0)\n"
     ]
    }
   ],
   "source": [
    "pnls = {}\n",
    "for p1 in range(4):\n",
    "    for p2 in range(4):\n",
    "        for p3 in range(4):\n",
    "            for p4 in range(4):\n",
    "                prod = conv[3, p1] * conv[p1, p2] * conv[p2, p3] * conv[p3, p4] * conv[p4, 3]\n",
    "                pnls[(p1, p2, p3, p4)] = prod\n",
    "\n",
    "max_pnl = max(pnls.values())\n",
    "print(max_pnl)\n",
    "best_convs = [k for k in pnls.keys() if pnls[k] == max_pnl][0]\n",
    "print(best_convs)"
   ]
  },
  {
   "cell_type": "code",
   "execution_count": 52,
   "id": "356dd5e1-f53a-42b9-9883-7da71e861c4c",
   "metadata": {},
   "outputs": [
    {
     "name": "stdout",
     "output_type": "stream",
     "text": [
      "Optimal conversions:\n",
      "\n",
      "Sea Shells --> Pizza Slices\n",
      "Pizza Slices --> Wasabi Roots\n",
      "Wasabi Roots --> Sea Shells\n",
      "Sea Shells --> Pizza Slices\n",
      "Pizza Slices --> Sea Shells\n"
     ]
    }
   ],
   "source": [
    "print('Optimal conversions:\\n')\n",
    "print(f'{prod_dict[3]} --> {prod_dict[best_convs[0]]}')\n",
    "print(f'{prod_dict[best_convs[0]]} --> {prod_dict[best_convs[1]]}')\n",
    "print(f'{prod_dict[best_convs[1]]} --> {prod_dict[best_convs[2]]}')\n",
    "print(f'{prod_dict[best_convs[2]]} --> {prod_dict[best_convs[3]]}')\n",
    "print(f'{prod_dict[best_convs[3]]} --> {prod_dict[3]}')"
   ]
  },
  {
   "cell_type": "code",
   "execution_count": 53,
   "id": "6d4e5473-0b50-4282-97d5-c8aefc7bd439",
   "metadata": {},
   "outputs": [
    {
     "name": "stdout",
     "output_type": "stream",
     "text": [
      "Highest PnL: 113939\n"
     ]
    }
   ],
   "source": [
    "print(f'Highest PnL: {int(np.round(2_000_000 * (max_pnl - 1)))}')"
   ]
  }
 ],
 "metadata": {
  "kernelspec": {
   "display_name": "Python 3 (ipykernel)",
   "language": "python",
   "name": "python3"
  },
  "language_info": {
   "codemirror_mode": {
    "name": "ipython",
    "version": 3
   },
   "file_extension": ".py",
   "mimetype": "text/x-python",
   "name": "python",
   "nbconvert_exporter": "python",
   "pygments_lexer": "ipython3",
   "version": "3.9.7"
  }
 },
 "nbformat": 4,
 "nbformat_minor": 5
}
